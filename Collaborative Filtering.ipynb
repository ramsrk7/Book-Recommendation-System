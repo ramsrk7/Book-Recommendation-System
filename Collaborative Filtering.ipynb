{
 "cells": [
  {
   "cell_type": "markdown",
   "metadata": {},
   "source": [
    "## IMPORT LIBRARIES AND DATASET"
   ]
  },
  {
   "cell_type": "code",
   "execution_count": 2,
   "metadata": {},
   "outputs": [],
   "source": [
    "import numpy as np\n",
    "import pandas as pd"
   ]
  },
  {
   "cell_type": "code",
   "execution_count": 3,
   "metadata": {},
   "outputs": [
    {
     "name": "stdout",
     "output_type": "stream",
     "text": [
      "<class 'pandas.core.frame.DataFrame'>\n",
      "RangeIndex: 10000 entries, 0 to 9999\n",
      "Data columns (total 23 columns):\n",
      " #   Column                     Non-Null Count  Dtype  \n",
      "---  ------                     --------------  -----  \n",
      " 0   id                         10000 non-null  int64  \n",
      " 1   book_id                    10000 non-null  int64  \n",
      " 2   best_book_id               10000 non-null  int64  \n",
      " 3   work_id                    10000 non-null  int64  \n",
      " 4   books_count                10000 non-null  int64  \n",
      " 5   isbn                       9300 non-null   object \n",
      " 6   isbn13                     9415 non-null   float64\n",
      " 7   authors                    10000 non-null  object \n",
      " 8   original_publication_year  9979 non-null   float64\n",
      " 9   original_title             9415 non-null   object \n",
      " 10  title                      10000 non-null  object \n",
      " 11  language_code              8916 non-null   object \n",
      " 12  average_rating             10000 non-null  float64\n",
      " 13  ratings_count              10000 non-null  int64  \n",
      " 14  work_ratings_count         10000 non-null  int64  \n",
      " 15  work_text_reviews_count    10000 non-null  int64  \n",
      " 16  ratings_1                  10000 non-null  int64  \n",
      " 17  ratings_2                  10000 non-null  int64  \n",
      " 18  ratings_3                  10000 non-null  int64  \n",
      " 19  ratings_4                  10000 non-null  int64  \n",
      " 20  ratings_5                  10000 non-null  int64  \n",
      " 21  image_url                  10000 non-null  object \n",
      " 22  small_image_url            10000 non-null  object \n",
      "dtypes: float64(3), int64(13), object(7)\n",
      "memory usage: 1.8+ MB\n"
     ]
    }
   ],
   "source": [
    "books = pd.read_csv('books.csv')\n",
    "books.info()"
   ]
  },
  {
   "cell_type": "code",
   "execution_count": 4,
   "metadata": {},
   "outputs": [
    {
     "data": {
      "text/html": [
       "<div>\n",
       "<style scoped>\n",
       "    .dataframe tbody tr th:only-of-type {\n",
       "        vertical-align: middle;\n",
       "    }\n",
       "\n",
       "    .dataframe tbody tr th {\n",
       "        vertical-align: top;\n",
       "    }\n",
       "\n",
       "    .dataframe thead th {\n",
       "        text-align: right;\n",
       "    }\n",
       "</style>\n",
       "<table border=\"1\" class=\"dataframe\">\n",
       "  <thead>\n",
       "    <tr style=\"text-align: right;\">\n",
       "      <th></th>\n",
       "      <th>book_id</th>\n",
       "      <th>authors</th>\n",
       "      <th>title</th>\n",
       "    </tr>\n",
       "  </thead>\n",
       "  <tbody>\n",
       "    <tr>\n",
       "      <th>0</th>\n",
       "      <td>2767052</td>\n",
       "      <td>Suzanne Collins</td>\n",
       "      <td>The Hunger Games (The Hunger Games, #1)</td>\n",
       "    </tr>\n",
       "    <tr>\n",
       "      <th>1</th>\n",
       "      <td>3</td>\n",
       "      <td>J.K. Rowling, Mary GrandPré</td>\n",
       "      <td>Harry Potter and the Sorcerer's Stone (Harry P...</td>\n",
       "    </tr>\n",
       "    <tr>\n",
       "      <th>2</th>\n",
       "      <td>41865</td>\n",
       "      <td>Stephenie Meyer</td>\n",
       "      <td>Twilight (Twilight, #1)</td>\n",
       "    </tr>\n",
       "    <tr>\n",
       "      <th>3</th>\n",
       "      <td>2657</td>\n",
       "      <td>Harper Lee</td>\n",
       "      <td>To Kill a Mockingbird</td>\n",
       "    </tr>\n",
       "    <tr>\n",
       "      <th>4</th>\n",
       "      <td>4671</td>\n",
       "      <td>F. Scott Fitzgerald</td>\n",
       "      <td>The Great Gatsby</td>\n",
       "    </tr>\n",
       "  </tbody>\n",
       "</table>\n",
       "</div>"
      ],
      "text/plain": [
       "   book_id                      authors  \\\n",
       "0  2767052              Suzanne Collins   \n",
       "1        3  J.K. Rowling, Mary GrandPré   \n",
       "2    41865              Stephenie Meyer   \n",
       "3     2657                   Harper Lee   \n",
       "4     4671          F. Scott Fitzgerald   \n",
       "\n",
       "                                               title  \n",
       "0            The Hunger Games (The Hunger Games, #1)  \n",
       "1  Harry Potter and the Sorcerer's Stone (Harry P...  \n",
       "2                            Twilight (Twilight, #1)  \n",
       "3                              To Kill a Mockingbird  \n",
       "4                                   The Great Gatsby  "
      ]
     },
     "execution_count": 4,
     "metadata": {},
     "output_type": "execute_result"
    }
   ],
   "source": [
    "book = books[['book_id','authors','title']]\n",
    "book.head()"
   ]
  },
  {
   "cell_type": "code",
   "execution_count": 5,
   "metadata": {},
   "outputs": [
    {
     "name": "stdout",
     "output_type": "stream",
     "text": [
      "<class 'pandas.core.frame.DataFrame'>\n",
      "RangeIndex: 10000 entries, 0 to 9999\n",
      "Data columns (total 3 columns):\n",
      " #   Column   Non-Null Count  Dtype \n",
      "---  ------   --------------  ----- \n",
      " 0   book_id  10000 non-null  int64 \n",
      " 1   authors  10000 non-null  object\n",
      " 2   title    10000 non-null  object\n",
      "dtypes: int64(1), object(2)\n",
      "memory usage: 234.5+ KB\n"
     ]
    }
   ],
   "source": [
    "book.info()"
   ]
  },
  {
   "cell_type": "code",
   "execution_count": 6,
   "metadata": {},
   "outputs": [],
   "source": [
    "ratings = pd.read_csv('ratings.csv')"
   ]
  },
  {
   "cell_type": "code",
   "execution_count": 7,
   "metadata": {},
   "outputs": [
    {
     "name": "stdout",
     "output_type": "stream",
     "text": [
      "<class 'pandas.core.frame.DataFrame'>\n",
      "RangeIndex: 981756 entries, 0 to 981755\n",
      "Data columns (total 3 columns):\n",
      " #   Column   Non-Null Count   Dtype\n",
      "---  ------   --------------   -----\n",
      " 0   book_id  981756 non-null  int64\n",
      " 1   user_id  981756 non-null  int64\n",
      " 2   rating   981756 non-null  int64\n",
      "dtypes: int64(3)\n",
      "memory usage: 22.5 MB\n"
     ]
    }
   ],
   "source": [
    "ratings.info()"
   ]
  },
  {
   "cell_type": "code",
   "execution_count": 8,
   "metadata": {},
   "outputs": [
    {
     "data": {
      "text/plain": [
       "array([5, 3, 4, 1, 2])"
      ]
     },
     "execution_count": 8,
     "metadata": {},
     "output_type": "execute_result"
    }
   ],
   "source": [
    "ratings['rating'].unique()"
   ]
  },
  {
   "cell_type": "code",
   "execution_count": 9,
   "metadata": {},
   "outputs": [],
   "source": [
    "books_data = pd.merge(book, ratings, on='book_id')"
   ]
  },
  {
   "cell_type": "markdown",
   "metadata": {},
   "source": [
    "## USER BASED COLLABORATIVE FILTER"
   ]
  },
  {
   "cell_type": "code",
   "execution_count": 15,
   "metadata": {},
   "outputs": [
    {
     "name": "stdout",
     "output_type": "stream",
     "text": [
      "RMSE: 0.8458\n"
     ]
    },
    {
     "data": {
      "text/plain": [
       "0.8457835435285036"
      ]
     },
     "execution_count": 15,
     "metadata": {},
     "output_type": "execute_result"
    }
   ],
   "source": [
    "from surprise import Reader, Dataset, SVD,accuracy\n",
    "from surprise.model_selection import train_test_split\n",
    "from surprise.model_selection import KFold\n",
    "\n",
    "reader = Reader(rating_scale=(1,5))\n",
    "\n",
    "\n",
    "data = Dataset.load_from_df(ratings[['book_id', 'user_id', 'rating']], reader)\n",
    "trainset, testset = train_test_split(data, test_size=.25)\n",
    "\n",
    "\n",
    "\n",
    "algo = SVD()\n",
    "algo.fit(trainset)\n",
    "predictions = algo.test(testset)\n",
    "accuracy.rmse(predictions, verbose=True)\n"
   ]
  },
  {
   "cell_type": "markdown",
   "metadata": {},
   "source": [
    "### RMSE ACCURACY OBTAINED - 84.58%"
   ]
  },
  {
   "cell_type": "code",
   "execution_count": 12,
   "metadata": {},
   "outputs": [],
   "source": [
    "def recommendation(user_id):\n",
    "    user = book.copy()\n",
    "    already_read = books_data[books_data['user_id'] == user_id]['book_id'].unique()\n",
    "    user = user.reset_index()\n",
    "    user = user[~user['book_id'].isin(already_read)]\n",
    "    user['Estimate_Score']=user['book_id'].apply(lambda x: algo.predict(user_id, x).est)\n",
    "    user = user.drop('book_id', axis = 1)\n",
    "    user = user.sort_values('Estimate_Score', ascending=False)\n",
    "    print(user.head(10))"
   ]
  },
  {
   "cell_type": "code",
   "execution_count": 13,
   "metadata": {},
   "outputs": [
    {
     "name": "stdout",
     "output_type": "stream",
     "text": [
      "      index                               authors  \\\n",
      "3060   3060                            C.S. Lewis   \n",
      "3251   3251                            Mark Twain   \n",
      "2323   2323  Laura Ingalls Wilder, Garth Williams   \n",
      "156     156                   Dr. Seuss, לאה נאור   \n",
      "9286   9286                             Max Barry   \n",
      "157     157             Roald Dahl, Quentin Blake   \n",
      "6062   6062                           Jack London   \n",
      "5857   5857                       Agatha Christie   \n",
      "7916   7916                      Simon Winchester   \n",
      "8037   8037                         David Eddings   \n",
      "\n",
      "                                                  title  Estimate_Score  \n",
      "3060                                The Problem of Pain             5.0  \n",
      "3251  The Adventures of Tom Sawyer & Adventures of H...             5.0  \n",
      "2323   By the Shores of Silver Lake  (Little House, #5)             5.0  \n",
      "156                                  Green Eggs and Ham             5.0  \n",
      "9286                                Jennifer Government             5.0  \n",
      "157   Charlie and the Chocolate Factory (Charlie Buc...             5.0  \n",
      "6062  The Call of the Wild, White Fang and Other Sto...             5.0  \n",
      "5857           Cards on the Table (Hercule Poirot, #15)             5.0  \n",
      "7916               Krakatoa: The Day the World Exploded             5.0  \n",
      "8037  The Belgariad Boxed Set: Pawn of Prophecy / Qu...             5.0  \n"
     ]
    }
   ],
   "source": [
    "recommendation(2)"
   ]
  },
  {
   "cell_type": "markdown",
   "metadata": {},
   "source": [
    "## Enter UserID to get recommendation "
   ]
  },
  {
   "cell_type": "code",
   "execution_count": 14,
   "metadata": {},
   "outputs": [
    {
     "name": "stdout",
     "output_type": "stream",
     "text": [
      "      index                      authors  \\\n",
      "5857   5857              Agatha Christie   \n",
      "1985   1985                 John Grisham   \n",
      "711     711               Diana Gabaldon   \n",
      "155     155                 Emily Giffin   \n",
      "2314   2314  E.B. White, Fred Marcellino   \n",
      "1446   1446             Robert McCloskey   \n",
      "2670   2670                 Maeve Binchy   \n",
      "2432   2432                 Jodi Picoult   \n",
      "7916   7916             Simon Winchester   \n",
      "6062   6062                  Jack London   \n",
      "\n",
      "                                                  title  Estimate_Score  \n",
      "5857           Cards on the Table (Hercule Poirot, #15)        5.000000  \n",
      "1985  The Innocent Man: Murder and Injustice in a Sm...        5.000000  \n",
      "711                     Drums of Autumn (Outlander, #4)        5.000000  \n",
      "155             Something Borrowed (Darcy & Rachel, #1)        4.964136  \n",
      "2314                            The Trumpet of the Swan        4.959543  \n",
      "1446                             Make Way for Ducklings        4.949584  \n",
      "2670                                  Circle of Friends        4.920504  \n",
      "2432                                    Picture Perfect        4.891535  \n",
      "7916               Krakatoa: The Day the World Exploded        4.881171  \n",
      "6062  The Call of the Wild, White Fang and Other Sto...        4.850317  \n"
     ]
    }
   ],
   "source": [
    "x = 33 #USERID\n",
    "recommendation(x)"
   ]
  },
  {
   "cell_type": "code",
   "execution_count": null,
   "metadata": {},
   "outputs": [],
   "source": []
  }
 ],
 "metadata": {
  "kernelspec": {
   "display_name": "Python 3",
   "language": "python",
   "name": "python3"
  },
  "language_info": {
   "codemirror_mode": {
    "name": "ipython",
    "version": 3
   },
   "file_extension": ".py",
   "mimetype": "text/x-python",
   "name": "python",
   "nbconvert_exporter": "python",
   "pygments_lexer": "ipython3",
   "version": "3.8.3"
  }
 },
 "nbformat": 4,
 "nbformat_minor": 4
}
